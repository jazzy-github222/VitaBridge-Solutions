{
 "cells": [
  {
   "cell_type": "markdown",
   "id": "0",
   "metadata": {},
   "source": [
    "# **Life Span Trends: Analyzing Longevity**\n",
    "Dataset: https://www.kaggle.com/datasets/kumarajarshi/life-expectancy-who/data\n",
    "\n",
    "## Project Description:\n",
    "Our aim is to uncover what contributes to longer life, by analyzing factors that contribute to longer lifespans covering economic gdp, health diseases, and spending on healthcare by countries.\n",
    "\n",
    "## Jazzy's Research Question Focus:\n",
    "What are the 5 countries with the least amount of diseases and high life expectancy?\n",
    "\n"
   ]
  },
  {
   "cell_type": "code",
   "execution_count": null,
   "id": "1",
   "metadata": {},
   "outputs": [],
   "source": [
    "import matplotlib.pyplot as plt\n",
    "import pandas as pd\n",
    "import numpy as np\n",
    "from pathlib import Path\n",
    "from scipy.stats import linregress\n",
    "\n",
    "# The path to our CSV file\n",
    "life_expectancy_data = Path(\"Life Expectancy Data.csv\")\n",
    "# Read our Life Expectancy data into pandas\n",
    "life_expectancy_df = pd.read_csv(life_expectancy_data)\n",
    "life_expectancy_df.head()"
   ]
  },
  {
   "cell_type": "markdown",
   "id": "2",
   "metadata": {},
   "source": [
    "---"
   ]
  },
  {
   "cell_type": "markdown",
   "id": "3",
   "metadata": {},
   "source": [
    "## **Part 1: Analyze Hepatitis B Coverage Trends 🔎**\n",
    "\n",
    "### Summary: \n",
    "\n",
    "- Higher coverage for Hepatitis B means life expectancy expands another 10 years. \n",
    "\n",
    "\n",
    "### Key Findings:\n",
    "- Low Hep B covered (9% - 35%) countries have an average Life Expectancy of 63 years.\n",
    "- High Hep B covered (98%) countries have an average Life Expectancy of 73 years.\n",
    "\n",
    "### Posible Action Steps:\n",
    "- Building contracts with pharmacueticals & governments to deliver HIV coverage in lacking countries.\n",
    "\n",
    "\n",
    "---"
   ]
  },
  {
   "cell_type": "markdown",
   "id": "4",
   "metadata": {},
   "source": [
    "### **Cleaning Data 🧹...**"
   ]
  },
  {
   "cell_type": "code",
   "execution_count": null,
   "id": "5",
   "metadata": {},
   "outputs": [],
   "source": [
    "# Isolate Country, Hep B, Life Expectancy and drop NaN values\n",
    "hep_children_coverage = life_expectancy_df[[\"Country\", \"Hepatitis B\", \"Life expectancy \"]].dropna()\n",
    "hep_children_coverage.head()"
   ]
  },
  {
   "cell_type": "code",
   "execution_count": null,
   "id": "6",
   "metadata": {},
   "outputs": [],
   "source": [
    "# Filter out rows where Hepatitis B or Life expectancy is 0\n",
    "hep_children_coverage_filtered = hep_children_coverage[(hep_children_coverage[\"Hepatitis B\"] != 0) & (hep_children_coverage[\"Life expectancy \"] != 0)]\n",
    "hep_children_coverage_filtered.head()"
   ]
  },
  {
   "cell_type": "code",
   "execution_count": null,
   "id": "7",
   "metadata": {},
   "outputs": [],
   "source": [
    "# Group by country and calculate the mean for each column and reset the index\n",
    "hep_children_coverage_df = hep_children_coverage_filtered.groupby(\"Country\").mean().reset_index()\n",
    "hep_children_coverage_df.head()"
   ]
  },
  {
   "cell_type": "markdown",
   "id": "8",
   "metadata": {},
   "source": [
    "### **Lowest Covered Countries 📝...**"
   ]
  },
  {
   "cell_type": "code",
   "execution_count": null,
   "id": "9",
   "metadata": {},
   "outputs": [],
   "source": [
    "# Find the lowest Hepatitis B covered countries\n",
    "lowest_hep_b_coverage = hep_children_coverage_df.sort_values(by=\"Hepatitis B\", ascending=True)\n",
    "print(\"THE BOTTOM 5 LOWEST HEP B COVERED COUNTRIES:\")\n",
    "\n",
    "# Return the bottom 5 rows\n",
    "lowest_hep_b_coverage.head()\n"
   ]
  },
  {
   "cell_type": "code",
   "execution_count": null,
   "id": "10",
   "metadata": {},
   "outputs": [],
   "source": [
    "# Find the Average Life Expectancy - bottom 5 lowest covered countries\n",
    "avg_low_hep_coverage = lowest_hep_b_coverage.head()[\"Life expectancy \"].mean()\n",
    "print(f\"The average life expectancy is {avg_low_hep_coverage}.\")\n"
   ]
  },
  {
   "cell_type": "markdown",
   "id": "11",
   "metadata": {},
   "source": [
    "### **Highest Covered Countries 📝...**"
   ]
  },
  {
   "cell_type": "code",
   "execution_count": null,
   "id": "12",
   "metadata": {},
   "outputs": [],
   "source": [
    "# Find the highest Hepatitis B covered countries\n",
    "highest_hep_b_coverage = hep_children_coverage_df.sort_values(by=\"Hepatitis B\", ascending=False)\n",
    "\n",
    "print(\"THE TOP 5 HIGHEST HEP B COVERED COUNTRIES:\")\n",
    "highest_hep_b_coverage.head()"
   ]
  },
  {
   "cell_type": "code",
   "execution_count": null,
   "id": "13",
   "metadata": {},
   "outputs": [],
   "source": [
    "# Find the average Life Expectancy of the top 5 highest covered countries\n",
    "avg_high_hep_coverage = highest_hep_b_coverage.head()[\"Life expectancy \"].mean()\n",
    "print(f\"The average life expectancy is {avg_high_hep_coverage}.\")\n"
   ]
  },
  {
   "cell_type": "markdown",
   "id": "14",
   "metadata": {},
   "source": [
    "### **Plotting Graph 📈**"
   ]
  },
  {
   "cell_type": "code",
   "execution_count": null,
   "id": "15",
   "metadata": {},
   "outputs": [],
   "source": [
    "# Adjust the size of the graph by width and height - ensures the visual isn't too small\n",
    "plt.figure(figsize=(10, 6))\n",
    "\n",
    "# Create the scatter plot using Hepatitis B (x-axis) & Life expectancy (y-axis) \n",
    "plt.scatter(hep_children_coverage_df[\"Hepatitis B\"], hep_children_coverage_df[\"Life expectancy \"])\n",
    "\n",
    "# Add country labels using a for loop\n",
    "for i, country in hep_children_coverage_df[\"Country\"].items():\n",
    "    plt.text(hep_children_coverage_df[\"Hepatitis B\"][i], \n",
    "             hep_children_coverage_df[\"Life expectancy \"][i], \n",
    "             country)\n",
    "\n",
    "# Set bolded labels and set title\n",
    "plt.xlabel(\"Hepatitis B Vaccination Coverage (%)\", fontweight=\"bold\")\n",
    "plt.ylabel(\"Life Expectancy\", fontweight=\"bold\")\n",
    "plt.title(\"Hepatitis B Vaccination Coverage vs Life Expectancy by Country\")\n",
    "\n",
    "# Show grid\n",
    "plt.grid(True)\n",
    "\n",
    "# Save the file as a png\n",
    "plt.savefig(\"Hep_B_Coverage_Chart\")\n",
    "\n",
    "# Show the chart\n",
    "plt.show()"
   ]
  },
  {
   "cell_type": "markdown",
   "id": "16",
   "metadata": {},
   "source": [
    "---\n",
    "\n",
    "## **Part 2: Measles Report 🦠**\n",
    "\n",
    "### Summary: \n",
    "\n",
    "- Greater cases of Measles leads to a decline in  12 years of Life Expectancy.\n",
    "\n",
    "### Key Findings:\n",
    "- Average Life Expectancy for the bottom 5 countries with the lowest Measles cases averages at about 74 years.\n",
    "- Average Life Expectancy for the top 5 countries with the highest Measles cases averages at about 62 years.\n",
    "- Countries with higher Measles cases can increase Life Expectancy to 20 years with better health treatment plans.\n",
    "\n",
    "### Possible Action Steps:\n",
    "- Working with Health Departments to understand how to limit and support countries with high Measles cases.\n",
    "- Review world data on Measles affect on all 10 countries.\n",
    "- Hiring more experts.\n",
    "\n",
    "---"
   ]
  },
  {
   "cell_type": "markdown",
   "id": "17",
   "metadata": {},
   "source": [
    "### **Cleaning Data 🧹...**"
   ]
  },
  {
   "cell_type": "code",
   "execution_count": null,
   "id": "18",
   "metadata": {},
   "outputs": [],
   "source": [
    "# Copy the view for Country, Measles, and Life Expectancy from original dataframe\n",
    "measles_life_expectancy = life_expectancy_df[[\"Country\", \"Measles \", \"Life expectancy \"]].copy()\n",
    "\n",
    "# Clean the data by dropping NaN values\n",
    "measles_life_expectancy.dropna(inplace=True)\n",
    "\n",
    "# Filter out rows where \"Measles\" column is not equal to 0\n",
    "measles_life_expectancy = measles_life_expectancy[measles_life_expectancy[\"Measles \"] != 0]\n",
    "\n",
    "# Averages and grouped by country\n",
    "grouped_measles_life_expectancy = measles_life_expectancy.groupby(\"Country\").mean().reset_index()\n",
    "grouped_measles_life_expectancy.head()"
   ]
  },
  {
   "cell_type": "markdown",
   "id": "19",
   "metadata": {},
   "source": [
    "### **Lowest Reported Cases (Per 1000) Bottom 5 Countries 📝:**"
   ]
  },
  {
   "cell_type": "code",
   "execution_count": null,
   "id": "20",
   "metadata": {},
   "outputs": [],
   "source": [
    "# Find the bottom 5 countries with the lowest measles cases\n",
    "lowest_reported_countries = grouped_measles_life_expectancy.sort_values(by=\"Measles \", ascending=True)\n",
    "\n",
    "print(\"THE BOTTOM 5 LEAST REPORTED MEASLES COUNTRIES:\")\n",
    "lowest_reported_countries.head()"
   ]
  },
  {
   "cell_type": "code",
   "execution_count": null,
   "id": "21",
   "metadata": {},
   "outputs": [],
   "source": [
    "# Find the Average Life Expectancy of Low Case Measles\n",
    "avg_low_measles_life = lowest_reported_countries.head()[\"Life expectancy \"].mean()\n",
    "print(f\"The average life expectancy is {avg_low_measles_life}.\")"
   ]
  },
  {
   "cell_type": "markdown",
   "id": "22",
   "metadata": {},
   "source": [
    "### **Highest Reported Cases (Per 1000) Bottom 5 Countries 📝:**"
   ]
  },
  {
   "cell_type": "code",
   "execution_count": null,
   "id": "23",
   "metadata": {},
   "outputs": [],
   "source": [
    "# Sort the values and produce the top 5\n",
    "highest_measles_reports = grouped_measles_life_expectancy.sort_values(by=\"Measles \")\n",
    "\n",
    "print(\"THE TOP 5 MOST REPORTED MEASLES COUNTRIES:\")\n",
    "highest_measles_reports.tail()"
   ]
  },
  {
   "cell_type": "code",
   "execution_count": null,
   "id": "24",
   "metadata": {},
   "outputs": [],
   "source": [
    "# Find the Average Life Expectancy of Low Case Measles\n",
    "avg_high_measles_life = highest_measles_reports.tail()[\"Life expectancy \"].mean()\n",
    "print(f\"The average life expectancy is {avg_high_measles_life}.\")"
   ]
  },
  {
   "cell_type": "markdown",
   "id": "25",
   "metadata": {},
   "source": [
    "### **Plotting Graph # 1 📈**"
   ]
  },
  {
   "cell_type": "code",
   "execution_count": null,
   "id": "26",
   "metadata": {},
   "outputs": [],
   "source": [
    "# Adjust the size of the scatter plot\n",
    "plt.figure(figsize=(10, 6))\n",
    "plt.scatter(lowest_reported_countries[\"Measles \"], lowest_reported_countries[\"Life expectancy \"], s=50, c=\"#AC2D47\", alpha=0.7)\n",
    "plt.title(\"Measles Effect On Life Expectancy\")\n",
    "\n",
    "# Bold the Labels\n",
    "plt.xlabel(\"Measles Cases (per 1000 population)\", fontweight=\"bold\")\n",
    "plt.ylabel(\"Average Life Expectancy\", fontweight=\"bold\")\n",
    "\n",
    "# Add the grid\n",
    "plt.grid(True)\n",
    "\n",
    "# Save chart as a png\n",
    "plt.savefig(\"Measles_Effect_On_Life_Expectancy_Chart_Regular\")\n",
    "\n",
    "# Show the scatter plot\n",
    "plt.show()"
   ]
  },
  {
   "cell_type": "markdown",
   "id": "27",
   "metadata": {},
   "source": [
    "#### **Expanded Version ⬇️**"
   ]
  },
  {
   "cell_type": "code",
   "execution_count": null,
   "id": "28",
   "metadata": {},
   "outputs": [],
   "source": [
    "# Create the biiger bubbles in relation to measle cases graph \n",
    "plt.figure(figsize=(10, 6))\n",
    "plt.scatter(lowest_reported_countries[\"Measles \"], lowest_reported_countries[\"Life expectancy \"], s=lowest_reported_countries[\"Measles \"]/10, c='#AC2D47', alpha=0.7)\n",
    "plt.title(\"Measles Effect On Life Expectancy\")\n",
    "\n",
    "# Bold the Labels\n",
    "plt.xlabel(\"Measles Cases (per 1000 population)\", fontweight=\"bold\")\n",
    "plt.ylabel(\"Average Life Expectancy\", fontweight=\"bold\")\n",
    "\n",
    "# Add the grid\n",
    "plt.grid(True)\n",
    "\n",
    "# Save chart as a png\n",
    "plt.savefig(\"Measles_Effect_On_Life_Expectancy_Chart_Expanded\")\n",
    "\n",
    "# Show the scatter plot\n",
    "plt.show()\n"
   ]
  },
  {
   "cell_type": "markdown",
   "id": "29",
   "metadata": {},
   "source": [
    "---\n",
    "\n",
    "## **Part 3: Obesity & Life Expectancy Analysis 💡**\n",
    "\n",
    "### Summary: \n",
    "\n",
    "Generally the higher the Life Expectancy the greater the rates of obesity.\n",
    "\n",
    "### Key Findings:\n",
    "- Low BMI rates were 19.08625.\n",
    "- Low BMI rates correspond to a Life Expectancy up to 48 years old.\n",
    "- High BMI rates were 47.269999999999996.\n",
    "- High BMI rates correspond to a Life Expectancy up to 82 years old.\n",
    "\n",
    "### Possible Action Steps:\n",
    "- Understanding the factors that create obesity in countries with better Life Expectancy.\n",
    "- Population census testing for further reviews and data \n",
    "\n",
    "\n",
    "---"
   ]
  },
  {
   "cell_type": "markdown",
   "id": "30",
   "metadata": {},
   "source": [
    "### **Cleaning Data 🧹...**"
   ]
  },
  {
   "cell_type": "code",
   "execution_count": null,
   "id": "31",
   "metadata": {},
   "outputs": [],
   "source": [
    "# Select \"Country\", \"Life expectancy \", \" BMI \" \n",
    "country_BMI_life_stats = life_expectancy_df[[\"Country\", \"Life expectancy \", \" BMI \"]]\n",
    "\n",
    "# Group by country and calculate the mean for each disease\n",
    "country_BMI_life_stats_grouped = country_BMI_life_stats.groupby('Country').mean().reset_index()\n",
    "\n",
    "# Convert to DataFrame & sort by life expectancy\n",
    "country_BMI_life_stats_grouped_df = pd.DataFrame(country_BMI_life_stats_grouped).sort_values(by='Life expectancy ')\n",
    "\n",
    "# Drop NaN values\n",
    "country_BMI_life_stats_grouped_df = country_BMI_life_stats_grouped_df.dropna()\n"
   ]
  },
  {
   "cell_type": "markdown",
   "id": "32",
   "metadata": {},
   "source": [
    "### **Best Life Expectancy & BMI Relationship 📝:**"
   ]
  },
  {
   "cell_type": "code",
   "execution_count": null,
   "id": "33",
   "metadata": {},
   "outputs": [],
   "source": [
    "# Select the top 5 (best life expectancy) \n",
    "top_5_countries = country_BMI_life_stats_grouped_df.tail(5)\n",
    "print(\"BEST LIFE EXPECTANCY & BMI RATES\")\n",
    "top_5_countries\n"
   ]
  },
  {
   "cell_type": "code",
   "execution_count": null,
   "id": "34",
   "metadata": {},
   "outputs": [],
   "source": [
    "# Find the Highest Average Life Expectancy \n",
    "avg_bmi_top_life = top_5_countries.head()[\"Life expectancy \"].mean()\n",
    "print(f\"The average life expectancy is {avg_bmi_top_life}.\")"
   ]
  },
  {
   "cell_type": "code",
   "execution_count": null,
   "id": "35",
   "metadata": {},
   "outputs": [],
   "source": [
    "# Find the Highest Average BMI\n",
    "avg_bmi_top = top_5_countries.head()[\" BMI \"].mean()\n",
    "print(f\"The average BMI is {avg_bmi_top}.\")"
   ]
  },
  {
   "cell_type": "markdown",
   "id": "36",
   "metadata": {},
   "source": [
    "### **Worst Life Expectancy & BMI Relationship 📝:**"
   ]
  },
  {
   "cell_type": "code",
   "execution_count": null,
   "id": "37",
   "metadata": {},
   "outputs": [],
   "source": [
    "# And bottom 5 (worst life expectancy) countries\n",
    "bottom_5_countries = country_BMI_life_stats_grouped_df.head(5)\n",
    "print(\"WORST LIFE EXPECTANCY & BMI RATES\")\n",
    "bottom_5_countries"
   ]
  },
  {
   "cell_type": "code",
   "execution_count": null,
   "id": "38",
   "metadata": {},
   "outputs": [],
   "source": [
    "# Find the Highest Average Life Expectancy \n",
    "avg_bmi_bottom_life = bottom_5_countries.head()[\"Life expectancy \"].mean()\n",
    "print(f\"The average life expectancy is {avg_bmi_bottom_life}.\")"
   ]
  },
  {
   "cell_type": "code",
   "execution_count": null,
   "id": "39",
   "metadata": {},
   "outputs": [],
   "source": [
    "# Find the Highest Average BMI\n",
    "avg_bmi_bottom = bottom_5_countries.head()[\" BMI \"].mean()\n",
    "print(f\"The average BMI is {avg_bmi_bottom}.\")"
   ]
  },
  {
   "cell_type": "markdown",
   "id": "40",
   "metadata": {},
   "source": [
    "### **Plotting Graph # 1 📈**"
   ]
  },
  {
   "cell_type": "code",
   "execution_count": null,
   "id": "41",
   "metadata": {},
   "outputs": [],
   "source": [
    "# Plotting Graph 1 - Top and Bottom 5 Only\n",
    "plt.figure(figsize=(10, 6))\n",
    "\n",
    "# Scatter plot for top 5 countries\n",
    "plt.scatter(top_5_countries[\" BMI \"], top_5_countries[\"Life expectancy \"], color='green', label='Top 5 Countries')\n",
    "\n",
    "# Scatter plot for bottom 5 countries\n",
    "plt.scatter(bottom_5_countries[\" BMI \"], bottom_5_countries[\"Life expectancy \"], color='red', label='Bottom 5 Countries')\n",
    "\n",
    "# Bold the labels\n",
    "plt.xlabel('BMI (Body Mass Index)', fontweight='bold')\n",
    "plt.ylabel('Life Expectancy', fontweight='bold')\n",
    "\n",
    "# Add the title, legend, grid\n",
    "plt.title('Relationship between BMI and Life Expectancy')\n",
    "plt.legend()\n",
    "plt.grid(True)\n",
    "\n",
    "# Save chart as a png\n",
    "plt.savefig(\"Top5_Bottom5_BMI_Life_Chart\")\n",
    "\n",
    "# Show the chart\n",
    "plt.show()"
   ]
  },
  {
   "cell_type": "markdown",
   "id": "42",
   "metadata": {},
   "source": [
    "### **Plotting Graph # 2 📈**"
   ]
  },
  {
   "cell_type": "code",
   "execution_count": null,
   "id": "43",
   "metadata": {},
   "outputs": [],
   "source": [
    "# Plotting Graph # 2 - All Countries Included (Top and Bottom Distinctive)\n",
    "plt.figure(figsize=(10, 6))\n",
    "\n",
    "# Scatter plot for all countries in grey\n",
    "plt.scatter(country_BMI_life_stats_grouped_df[\" BMI \"], country_BMI_life_stats_grouped_df[\"Life expectancy \"], color='grey', label='Other Countries')\n",
    "\n",
    "# Scatter plot for top 5 countries\n",
    "plt.scatter(top_5_countries[\" BMI \"], top_5_countries[\"Life expectancy \"], color='green', label='Top 5 Countries')\n",
    "\n",
    "# Scatter plot for bottom 5 countries\n",
    "plt.scatter(bottom_5_countries[\" BMI \"], bottom_5_countries[\"Life expectancy \"], color='red', label='Bottom 5 Countries')\n",
    "\n",
    "\n",
    "# Bold the labels\n",
    "plt.xlabel('BMI (Body Mass Index)', fontweight='bold')\n",
    "plt.ylabel('Life Expectancy', fontweight='bold')\n",
    "\n",
    "# Add the title, legend, grid\n",
    "plt.title('Relationship between BMI and Life Expectancy')\n",
    "plt.legend()\n",
    "plt.grid(True)\n",
    "\n",
    "# Save chart as a png\n",
    "plt.savefig(\"All_Countries__BMI_Life_Chart\")\n",
    "\n",
    "# Show the chart\n",
    "plt.show()"
   ]
  },
  {
   "cell_type": "markdown",
   "id": "44",
   "metadata": {},
   "source": [
    "---\n",
    "\n",
    "## **Part 4: HIV Prevalence & Life Expectancy Analysis 🧪**\n",
    "\n",
    "### Summary: \n",
    "\n",
    "Similar to the Measles graph, there is greater Life Expectancy  with lower cases of deaths. We also notice a correlation of Measles and HIV which could possibly be happening simultaniously within countries, this could lead to a greater understanding of how to effectively get both diseases under control. HIV creates an imbalance from opitmal life expectancy (82) with 0.1% deaths affecting life expectancy by 14 years - possiblye due to stress and lack of sufficient health measures. Countries facing greater HIV see the effect double as 30 years are diminished in Life Expectancy findings. \n",
    "\n",
    "### Key Findings:\n",
    "- The lowest average life expectancy is 68.5 years old with 0.1 HIV deaths.\n",
    "- The highest average life expectancy is 51 years old with HIV averaged deaths at 22.8%.\n",
    "\n",
    "\n",
    "### Posible Action Steps:\n",
    "- Learn more about countries facing Measles and HIV, similar symptoms, and treatments \n",
    "- Working with suppliers and governments to pursue research and production of meds for relief\n",
    "\n",
    "---"
   ]
  },
  {
   "cell_type": "markdown",
   "id": "45",
   "metadata": {},
   "source": [
    "### **Cleaning Data 🧹...**"
   ]
  },
  {
   "cell_type": "code",
   "execution_count": null,
   "id": "46",
   "metadata": {},
   "outputs": [],
   "source": [
    "# Select \"Country\", \"Life expectancy \", \" HIV/AIDS\"\n",
    "hiv_life_expectancy = life_expectancy_df[[\"Country\", \"Life expectancy \", \" HIV/AIDS\"]]\n",
    "\n",
    "# Group by country and calculate the mean for each disease\n",
    "hiv_life_expectancy = hiv_life_expectancy.groupby('Country').mean().reset_index()\n",
    "\n",
    "# Convert to DataFrame & sort\n",
    "hiv_life_expectancy_df = pd.DataFrame(hiv_life_expectancy).sort_values(by=\" HIV/AIDS\", ascending=True)\n",
    "\n",
    "# Drop NaN values\n",
    "hiv_life_expectancy_df = hiv_life_expectancy_df.dropna()"
   ]
  },
  {
   "cell_type": "markdown",
   "id": "47",
   "metadata": {},
   "source": [
    "### **Highest HIV Rates & Life Expectancy 📝:**"
   ]
  },
  {
   "cell_type": "code",
   "execution_count": null,
   "id": "48",
   "metadata": {},
   "outputs": [],
   "source": [
    "# Sort by highest life expectancy\n",
    "print(\"TOP 5 COUNTRIES WITH THE HIGHEST HIV DEATHS (PER 1000 CHILDREN 0-4 YEARS) AND LIFE EXPECTANCY\")\n",
    "hiv_life_expectancy_df.tail()"
   ]
  },
  {
   "cell_type": "code",
   "execution_count": null,
   "id": "49",
   "metadata": {},
   "outputs": [],
   "source": [
    "# Find the Highest Average Life Expectancy \n",
    "avg_life_for_high_hiv = hiv_life_expectancy_df.tail()[\"Life expectancy \"].mean()\n",
    "print(f\"The average life expectancy is {avg_life_for_high_hiv}.\")"
   ]
  },
  {
   "cell_type": "code",
   "execution_count": null,
   "id": "50",
   "metadata": {},
   "outputs": [],
   "source": [
    "# Find the Average HIV RATE \n",
    "avg_highest_HIV_rate = hiv_life_expectancy_df.tail()[\" HIV/AIDS\"].mean()\n",
    "print(f\"The average HIV rate is {avg_highest_HIV_rate}.\")"
   ]
  },
  {
   "cell_type": "markdown",
   "id": "51",
   "metadata": {},
   "source": [
    "### **Lowest HIV Rates & Life Expectancy 📝:**"
   ]
  },
  {
   "cell_type": "code",
   "execution_count": null,
   "id": "52",
   "metadata": {},
   "outputs": [],
   "source": [
    "# Dispaly the 5 countries with the lowest amount of HIV deaths \n",
    "print(\"TOP 5 COUNTRIES WITH THE LOWEST HIV DEATHS (PER 1000 CHILDREN 0-4 YEARS) AND LIFE EXPECTANCY\")\n",
    "hiv_life_expectancy_df.head()"
   ]
  },
  {
   "cell_type": "code",
   "execution_count": null,
   "id": "53",
   "metadata": {},
   "outputs": [],
   "source": [
    "# Find the average Life Expectancy \n",
    "avg_low_HIV_life = hiv_life_expectancy_df.head()[\"Life expectancy \"].mean()\n",
    "print(f\"The average life expectancy is {avg_low_HIV_life}.\")\n",
    "avg_low_HIV_life"
   ]
  },
  {
   "cell_type": "code",
   "execution_count": null,
   "id": "54",
   "metadata": {},
   "outputs": [],
   "source": [
    "# Find the Average HIV RATE \n",
    "avg_lowest_HIV_rate = hiv_life_expectancy_df.head()[\" HIV/AIDS\"].mean()\n",
    "print(f\"The average HIV rate is {avg_lowest_HIV_rate}.\")"
   ]
  },
  {
   "cell_type": "code",
   "execution_count": null,
   "id": "55",
   "metadata": {},
   "outputs": [],
   "source": [
    "# Plotting the HIV and Life Expectancy Graph\n",
    "plt.figure(figsize=(10, 6))\n",
    "plt.scatter(hiv_life_expectancy_df[\" HIV/AIDS\"], hiv_life_expectancy_df[\"Life expectancy \"], color='skyblue')\n",
    "\n",
    "# Bold the labels\n",
    "plt.xlabel('HIV/AIDS Prevalence (%)', fontweight='bold')\n",
    "plt.ylabel('Life Expectancy', fontweight='bold')\n",
    "\n",
    "# Add title & grid\n",
    "plt.title('Relationship between HIV/AIDS Prevalence and Life Expectancy')\n",
    "plt.grid(True)\n",
    "\n",
    "# Save the image\n",
    "plt.savefig(\"HIV_and_Life_Chart\")\n",
    "\n",
    "# show the chart\n",
    "plt.show()\n"
   ]
  },
  {
   "cell_type": "markdown",
   "id": "56",
   "metadata": {},
   "source": [
    "---\n",
    "\n",
    "## Additional Tables 📌\n",
    "\n",
    "---"
   ]
  },
  {
   "cell_type": "code",
   "execution_count": null,
   "id": "57",
   "metadata": {},
   "outputs": [],
   "source": [
    "# Select the columns of interest\n",
    "top_diseases_for_life_expectancy = life_expectancy_df[[\"Country\", \"Life expectancy \", \" BMI \"]]\n",
    "\n",
    "# Group by country and calculate the mean for each disease\n",
    "grouped_by_country = top_diseases_for_life_expectancy.groupby('Country').mean().reset_index()\n",
    "\n",
    "# Convert to DataFrame & sort\n",
    "grouped_by_country_df = pd.DataFrame(grouped_by_country).sort_values(by='Life expectancy ', ascending=False)\n",
    "\n",
    "# Drop NaN values\n",
    "grouped_by_country_df = grouped_by_country_df.dropna()\n",
    "\n",
    "# Sort by highest life expectancy\n",
    "grouped_by_country_df.head()"
   ]
  },
  {
   "cell_type": "code",
   "execution_count": null,
   "id": "58",
   "metadata": {},
   "outputs": [],
   "source": [
    "# Select the columns of interest\n",
    "top_diseases_for_life_expectancy = life_expectancy_df[[\"Country\", \"Life expectancy \",  \"Measles \", \"Hepatitis B\", \"Polio\", \"Diphtheria \", \" HIV/AIDS\"]]\n",
    "\n",
    "# Group by country and calculate the mean for each disease\n",
    "grouped_by_country = top_diseases_for_life_expectancy.groupby('Country').mean().reset_index()\n",
    "\n",
    "# Convert to DataFrame & sort\n",
    "grouped_by_country_df = pd.DataFrame(grouped_by_country).sort_values(by='Life expectancy ', ascending=False)\n",
    "\n",
    "# Drop NaN values\n",
    "grouped_by_country_df = grouped_by_country_df.dropna()\n",
    "\n",
    "# Sort by highest life expectancy\n",
    "print(\"ALL DISEASES TOP LIFE EXPECTANCY\")\n",
    "grouped_by_country_df.head()\n",
    "\n"
   ]
  },
  {
   "cell_type": "code",
   "execution_count": null,
   "id": "59",
   "metadata": {},
   "outputs": [],
   "source": [
    "# Sort by lowest life expectancy\n",
    "print(\"ALL DISEASES BOTTOM LIFE EXPECTANCY\")\n",
    "grouped_by_country_df.tail()"
   ]
  },
  {
   "cell_type": "code",
   "execution_count": null,
   "id": "60",
   "metadata": {},
   "outputs": [],
   "source": [
    "# Select the columns of interest\n",
    "top_diseases_for_life_expectancy = life_expectancy_df[[\"Country\", \"Life expectancy \", \" BMI \", \"Hepatitis B\", \"Measles \", \"Polio\", \"Diphtheria \", \" HIV/AIDS\"]]\n",
    "\n",
    "# Group by country and calculate the mean for each disease\n",
    "grouped_by_country = top_diseases_for_life_expectancy.groupby('Country').mean().reset_index()\n",
    "\n",
    "# Convert to DataFrame & sort\n",
    "grouped_by_country_df = pd.DataFrame(grouped_by_country).sort_values(by='Life expectancy ', ascending=False)\n",
    "\n",
    "# Drop NaN values\n",
    "grouped_by_country_df = grouped_by_country_df.dropna()\n",
    "\n",
    "# Sort by highest life expectancy\n",
    "print(\"ALL DISEASES WITH BMI\")\n",
    "grouped_by_country_df.head()"
   ]
  },
  {
   "cell_type": "code",
   "execution_count": null,
   "id": "61",
   "metadata": {},
   "outputs": [],
   "source": [
    "import matplotlib.pyplot as plt\n",
    "import pandas as pd\n",
    "from pathlib import Path\n",
    "\n",
    "# The path to our CSV file\n",
    "life_expectancy_data = Path(\"Life Expectancy Data.csv\")\n",
    "\n",
    "# Read our Life Expectancy data into pandas\n",
    "life_expectancy_df = pd.read_csv(life_expectancy_data)\n",
    "\n",
    "# Select the columns of interest\n",
    "top_diseases_for_life_expectancy = life_expectancy_df[[\"Country\",\" HIV/AIDS\",  \" BMI \"]]\n",
    "\n",
    "# Group by country and calculate the mean for each disease\n",
    "grouped_by_country = top_diseases_for_life_expectancy.groupby('Country').mean().reset_index()\n",
    "\n",
    "# Convert to DataFrame & sort\n",
    "grouped_by_country_df = pd.DataFrame(grouped_by_country).sort_values(by=\" HIV/AIDS\", ascending=False)\n",
    "\n",
    "# Drop NaN values\n",
    "grouped_by_country_df = grouped_by_country_df.dropna()\n",
    "\n",
    "# Sort by highest life expectancy\n",
    "print(\"COUNTRIES WITH THE HIGHEST HIV DEATHS (PER 1000 CHILDREN 0-4 YEARS)\")\n",
    "grouped_by_country_df.head()"
   ]
  },
  {
   "cell_type": "code",
   "execution_count": null,
   "id": "62",
   "metadata": {},
   "outputs": [],
   "source": [
    "# Sort by highest life expectancy\n",
    "print(\"COUNTRIES WITH THE LOWEST HIV DEATHS (PER 1000 CHILDREN 0-4 YEARS)\")\n",
    "grouped_by_country_df.tail()"
   ]
  },
  {
   "cell_type": "code",
   "execution_count": null,
   "id": "63",
   "metadata": {},
   "outputs": [],
   "source": [
    "# Select the columns of interest\n",
    "top_diseases_for_life_expectancy = life_expectancy_df[[\"Country\", \"Life expectancy \",  \" HIV/AIDS\"]]\n",
    "\n",
    "# Group by country and calculate the mean for each disease\n",
    "grouped_by_country = top_diseases_for_life_expectancy.groupby('Country').mean().reset_index()\n",
    "\n",
    "# Convert to DataFrame & sort\n",
    "grouped_by_country_df = pd.DataFrame(grouped_by_country).sort_values(by=\"Life expectancy \", ascending=False)\n",
    "\n",
    "# Drop NaN values\n",
    "grouped_by_country_df = grouped_by_country_df.dropna()\n",
    "\n",
    "# Sort by highest life expectancy\n",
    "print(\"BEST LIFE EXPECTANCY AND LOWEST HIV DEATHS (PER 1000 CHILDREN 0-4 YEARS)\")\n",
    "grouped_by_country_df.head()"
   ]
  },
  {
   "cell_type": "code",
   "execution_count": null,
   "id": "64",
   "metadata": {},
   "outputs": [],
   "source": [
    "# Convert to DataFrame & sort\n",
    "grouped_by_country_df = pd.DataFrame(grouped_by_country).sort_values(by=\"Life expectancy \", ascending=True)\n",
    "\n",
    "# Drop NaN values\n",
    "grouped_by_country_df = grouped_by_country_df.dropna()\n",
    "\n",
    "# Sort by highest life expectancy\n",
    "print(\"WORST LIFE EXPECTANCY & HIV DEATHS (PER 1000 CHILDREN 0-4 YEARS)\")\n",
    "grouped_by_country_df.head()"
   ]
  }
 ],
 "metadata": {
  "kernelspec": {
   "display_name": "Python 3 (ipykernel)",
   "language": "python",
   "name": "python3"
  },
  "language_info": {
   "codemirror_mode": {
    "name": "ipython",
    "version": 3
   },
   "file_extension": ".py",
   "mimetype": "text/x-python",
   "name": "python",
   "nbconvert_exporter": "python",
   "pygments_lexer": "ipython3",
   "version": "3.11.5"
  }
 },
 "nbformat": 4,
 "nbformat_minor": 5
}
