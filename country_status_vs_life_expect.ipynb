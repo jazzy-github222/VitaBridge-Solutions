{
 "cells": [
  {
   "cell_type": "markdown",
   "metadata": {},
   "source": [
    "\n",
    "## Life Span Trends: Analyzing Longevity\n",
    "\n",
    "### Project Description:\n",
    "Our aim is to uncover what contributes to longer life, by analyzing factors that contribute to longer lifespans covering economic gdp, health diseases, and spending on healthcare by countries.\n",
    "\n",
    "### Research Questions to Answer:\n",
    "1. On average, do people in developed or developing countries live longer?\n",
    "2. Do countries with high gdp spend more on health (%) expenditure\n",
    "3. Do countries that spend more on health exp have less diseases\n",
    "    - vs average diseases (for each)\n",
    "    - what are the 5 countries with the least amount of diseases have a higher life expectancy\n",
    "\n",
    "Dataset: https://www.kaggle.com/datasets/kumarajarshi/life-expectancy-who/data\n",
    "\n",
    "Note: Question 1 will be answered the below script. For Question 2 and Question 3, please review Lakshmi and Jasleen's findings."
   ]
  },
  {
   "cell_type": "code",
   "execution_count": null,
   "metadata": {},
   "outputs": [],
   "source": [
    "import matplotlib.pyplot as plt\n",
    "import pandas as pd\n",
    "import numpy as np\n",
    "from pathlib import Path \n",
    "from scipy.stats import linregress\n",
    "from sklearn.linear_model import LinearRegression\n",
    "import statsmodels.api as sm\n",
    "\n",
    "# The path to our CSV file\n",
    "life_expectancy_data = Path(\"Life Expectancy Data.csv\")\n",
    "\n",
    "# Read our Life Expectancy data into pandas\n",
    "life_expectancy_df = pd.read_csv(life_expectancy_data)"
   ]
  },
  {
   "cell_type": "code",
   "execution_count": null,
   "metadata": {},
   "outputs": [],
   "source": [
    "life_expectancy_df.info()"
   ]
  },
  {
   "cell_type": "code",
   "execution_count": null,
   "metadata": {},
   "outputs": [],
   "source": [
    "print(f\"Number of countries in the final file is {life_expectancy_df['Country'].nunique()}\")"
   ]
  },
  {
   "cell_type": "markdown",
   "metadata": {},
   "source": [
    "## Data Cleaning"
   ]
  },
  {
   "cell_type": "code",
   "execution_count": null,
   "metadata": {},
   "outputs": [],
   "source": [
    "# Assuming life_expectancy_df is your DataFrame containing the data\n",
    "# Find the first year\n",
    "first_year = life_expectancy_df['Year'].min()\n",
    "\n",
    "# Find the last year\n",
    "last_year = life_expectancy_df['Year'].max()\n",
    "\n",
    "print(first_year)\n",
    "print(last_year)"
   ]
  },
  {
   "cell_type": "code",
   "execution_count": null,
   "metadata": {},
   "outputs": [],
   "source": [
    "# List of the range of years for the analysis\n",
    "\n",
    "years_list = list(range(first_year,last_year +1, 1))\n",
    "\n",
    "years_list"
   ]
  },
  {
   "cell_type": "code",
   "execution_count": null,
   "metadata": {},
   "outputs": [],
   "source": [
    "# Get a list of all of our columns for easy reference\n",
    "life_expectancy_df.columns"
   ]
  },
  {
   "cell_type": "code",
   "execution_count": null,
   "metadata": {},
   "outputs": [],
   "source": [
    "# Remove unnecessary columns\n",
    "lifee_reduced = life_expectancy_df.drop(columns=['percentage expenditure', 'Hepatitis B',\n",
    "       'Measles ', ' BMI ', 'under-five deaths ', 'Polio', 'Total expenditure',\n",
    "       'Diphtheria ', ' HIV/AIDS', 'GDP', ' thinness  1-19 years', ' thinness 5-9 years',\n",
    "       'Income composition of resources'])\n",
    "\n",
    "# Rename column Country Name to align with other datasets\n",
    "lifee_reduced.rename(columns={'Life expectancy ': 'Life expectancy'}, inplace=True)\n",
    "\n",
    "lifee_reduced.head()"
   ]
  },
  {
   "cell_type": "code",
   "execution_count": null,
   "metadata": {},
   "outputs": [],
   "source": [
    "# Count the number of rows for each country\n",
    "country_row_counts = lifee_reduced['Country'].value_counts()\n",
    "\n",
    "# Print the result\n",
    "print(country_row_counts.tail(15))\n",
    "\n",
    "# Export the DataFrame to a CSV file to check just to make sure\n",
    "# so we can decide if we need to drop any countries that do not have all the years\n",
    "# country_row_counts.to_csv('country_row_counts.csv', index=False)"
   ]
  },
  {
   "cell_type": "code",
   "execution_count": null,
   "metadata": {},
   "outputs": [],
   "source": [
    "# Filtered out countries with only 1 year of data\n",
    "# Group the data by country and count the number of years for each country\n",
    "country_counts = lifee_reduced.groupby('Country')['Year'].count()\n",
    "\n",
    "# Then, filter out the countries with only one year of data\n",
    "countries_with_multiple_years = country_counts[country_counts > 1].index.tolist()\n",
    "\n",
    "# Finally, filter the original DataFrame to include only the countries with more than one year of data\n",
    "filtered_df = lifee_reduced[lifee_reduced['Country'].isin(countries_with_multiple_years)]\n",
    "\n",
    "filtered_df.head()\n"
   ]
  },
  {
   "cell_type": "markdown",
   "metadata": {},
   "source": [
    "#### Population\n",
    "'Population' only shows it has non-null value of 2286 out of 2938.\n",
    "Let's check to see what are countries with the null value"
   ]
  },
  {
   "cell_type": "code",
   "execution_count": null,
   "metadata": {},
   "outputs": [],
   "source": [
    "# Filter the DataFrame to include only rows where Population is NaN\n",
    "countries_with_nan_population = filtered_df[filtered_df['Population'].isna()]\n",
    "\n",
    "# Export the DataFrame to a CSV file to check just to make sure\n",
    "# so we can decide if we need to drop\n",
    "# countries_with_nan_population.to_csv('countries_with_nan_population.csv', index=False)\n",
    "\n",
    "# Get unique country names\n",
    "unique_countries_with_nan_population = countries_with_nan_population['Country'].unique()\n",
    "\n",
    "# Print the unique country names\n",
    "unique_countries_with_nan_population\n",
    "\n"
   ]
  },
  {
   "cell_type": "markdown",
   "metadata": {},
   "source": [
    "### Discussion - Population data\n",
    "The Population series were missing data of 41 countries, including prominent nations like the United States, the United Kingdom and New Zealand, posing a significant limitation. While merging with additional datasets could address this gap, the dynamic nature of populations due to factors like immigration introduces complexity and potential distortions in analyzing their relationship with life expectancies.\n",
    "\n",
    "RE option: find another dataset for a merge\n",
    "\n",
    "Example:\n",
    "https://www.kaggle.com/datasets/iamsouravbanerjee/world-population-dataset\n",
    "\n",
    "About this another dataset for further use:\n",
    "Provide population count in 5-year intervals (i.e. 2015 Population, 2010 Population, 2000 Population) and a series on Growth Rate. \n",
    "Users can create an estimate on total population by country from 2000 to 2015 using calcuation. \n",
    "\n",
    "Vertical list of data available: ['Rank','CCA3', 'Country/Territory', 'Capital', 'Continent', '2022 Population', '2020 Population', '2015 Population', '2010 Population', '2000 Population', '1990 Population', '1980 Population', '1970 Population', 'Area (kmÂ²)', 'Density (per kmÂ²)', 'Growth Rate', 'World Population Percentage']"
   ]
  },
  {
   "cell_type": "markdown",
   "metadata": {},
   "source": [
    "## Question 1: On average, do people in developed or developing countries live longer?"
   ]
  },
  {
   "cell_type": "code",
   "execution_count": null,
   "metadata": {},
   "outputs": [],
   "source": [
    "# Calculate the average Life Expectancy in age\n",
    "per_country_status = life_expectancy_df.groupby(\"Country\")[\"Status\"].unique().str[0]\n",
    "per_country_status.head()"
   ]
  },
  {
   "cell_type": "code",
   "execution_count": null,
   "metadata": {},
   "outputs": [],
   "source": [
    "# Calculate the average Life Expectancy in age\n",
    "per_country_life_ex = life_expectancy_df.groupby(\"Country\")[\"Life expectancy \"].mean()\n",
    "per_country_life_ex.head()\n"
   ]
  },
  {
   "cell_type": "code",
   "execution_count": null,
   "metadata": {},
   "outputs": [],
   "source": [
    "# Calculate the average Life Expectancy in age\n",
    "per_country_avg_p = filtered_df.groupby(\"Country\")[\"Population\"].mean().map('{:,.0f}'.format)\n",
    "print(per_country_avg_p.tail(25))"
   ]
  },
  {
   "cell_type": "code",
   "execution_count": null,
   "metadata": {},
   "outputs": [],
   "source": [
    "# Calculate the average Adult Mortality \n",
    "# (Adult Mortality Rates of both sexes (probability of dying between 15 and 60 years per 1000 population))\n",
    "\n",
    "per_country_adult_mor = filtered_df.groupby(\"Country\")[\"Adult Mortality\"].mean()\n",
    "per_country_adult_mor"
   ]
  },
  {
   "cell_type": "code",
   "execution_count": null,
   "metadata": {},
   "outputs": [],
   "source": [
    "# Calculate the average infant deaths\n",
    "# infant deaths (Number of Infant Deaths per 1000 population)\n",
    "\n",
    "per_country_infant_deaths = filtered_df.groupby(\"Country\")[\"infant deaths\"].mean()\n",
    "per_country_infant_deaths"
   ]
  },
  {
   "cell_type": "code",
   "execution_count": null,
   "metadata": {},
   "outputs": [],
   "source": [
    "# Create a DataFrame called `per_country_summary` with columns for the calculations above.\n",
    "per_country_summary = pd.DataFrame({\"Country_status\": per_country_status,\n",
    "                                    \"Avg. Population\": per_country_avg_p,\n",
    "                                    \"Avg. Life Expectancy\": per_country_life_ex,\n",
    "                                    \"Adult Mortality Rates\": per_country_adult_mor,\n",
    "                                    \"Avg. Infant Deaths\":per_country_infant_deaths})\n",
    "\n",
    "per_country_summary = per_country_summary.sort_values([\"Avg. Life Expectancy\"],ascending=False)\n",
    "\n",
    "drop_per_country_summary = pd.DataFrame.dropna(per_country_summary,how=\"any\")\n",
    "\n",
    "drop_per_country_summary\n"
   ]
  },
  {
   "cell_type": "code",
   "execution_count": null,
   "metadata": {},
   "outputs": [],
   "source": [
    "status_counts = drop_per_country_summary['Country_status'].value_counts()\n",
    "status_counts"
   ]
  },
  {
   "cell_type": "code",
   "execution_count": null,
   "metadata": {},
   "outputs": [],
   "source": [
    "developed_df = filtered_df.loc[:, [\"Year\", \"Status\", \"Life expectancy\"]]\n",
    "developed_df = developed_df.dropna(how=\"any\")\n",
    "\n",
    "developed_group_df = developed_df.groupby([\"Status\", \"Year\"])\n",
    "average = developed_group_df.mean().round(2)\n",
    "\n",
    "# Define colors for each status\n",
    "colors = {\"Developed\": \"#0EA4D5\", \"Developing\": \"#AC2D47\"}\n",
    "\n",
    "# Plot the line graph with different colors for each status and smaller circle markers\n",
    "ax = average[\"Life expectancy\"].unstack(level=0).plot(kind=\"line\", figsize=(10, 5), rot=90, color=colors, marker='o', markersize=3)\n",
    "\n",
    "# Add data labels\n",
    "for status in colors:\n",
    "    for year, life_expectancy in average[\"Life expectancy\"][status].items():\n",
    "        ax.annotate(f'{life_expectancy}', xy=(year, life_expectancy), xytext=(-10, 5), textcoords='offset points')\n",
    "\n",
    "# Add legend\n",
    "ax.legend(title=\"Status\")\n",
    "\n",
    "# Set y-axis range from 60 to 90\n",
    "ax.set_ylim(60, 90)\n",
    "\n",
    "plt.title(\"Life Expectancy Growth by Year\", fontweight=\"bold\")\n",
    "plt.ylabel(\"Age\", fontweight=\"bold\")\n",
    "plt.xlabel(\"Year\", fontweight=\"bold\")\n",
    "plt.tight_layout()\n",
    "plt.show()\n",
    "\n"
   ]
  },
  {
   "cell_type": "markdown",
   "metadata": {},
   "source": [
    "### Discussion - On average do developed or developing countries live longer?\n",
    "On average, developed countries tend to have a higher life expectancy compared to developing countries, even we can see an increase in both statuses over the years.\n",
    "\n",
    "The average life expectancy for Developed Countries ranges between 76.8 to 80.71 years.\n",
    "The average life expectancy for Developing Countries ranges between 64.62 to 69.69 years.\n",
    "\n",
    "\n"
   ]
  },
  {
   "cell_type": "markdown",
   "metadata": {},
   "source": [
    "## Further Exploration on the Series/ the Columns in the dataset\n",
    "Note: The below will not make it to the main presentation, but are good preparation materials for FAQs, as it provides further readings into the existing dataset on factors influencing life expectancy.\n"
   ]
  },
  {
   "cell_type": "markdown",
   "metadata": {},
   "source": [
    "### Schooling v.s. Life expectancy"
   ]
  },
  {
   "cell_type": "code",
   "execution_count": null,
   "metadata": {},
   "outputs": [],
   "source": [
    "# Schooling v.s. Life expectancy\n",
    "\n",
    "y_data=\"Life expectancy \"\n",
    "x_data=\"Schooling\"\n",
    "xy_df=life_expectancy_df.loc[:,[x_data,y_data]]\n",
    "\n",
    "xy_df=pd.DataFrame.dropna(xy_df,how=\"any\")\n",
    "xy_df.plot(kind=\"scatter\",x=x_data,y=y_data)\n",
    "\n",
    "x=xy_df[x_data]\n",
    "y=xy_df[y_data]\n",
    "\n",
    "(slope, intercept, rvalue, pvalue, stderr) = linregress(x,y)\n",
    "print(f\"The r-value is: {rvalue}\")\n",
    "line_eq=f\"y = {round(slope,2)}x + {round(intercept,2)}\"\n",
    "regress_values = x * slope + intercept\n",
    "\n",
    "plt.plot(x,regress_values,\"r-\")\n",
    "plt.annotate(line_eq, ((x.min(),y.max())), fontsize=15, color=\"red\") \n",
    "plt.title(f\"{x_data} V.S. {y_data}\")"
   ]
  },
  {
   "cell_type": "markdown",
   "metadata": {},
   "source": [
    "### Discussion - Schooling v.s. Life Expectancy\n",
    "While there looks to be correlation coefficient (r-value of 0.75) between schooling and life expectancy, this relationship can be interpreted differently. \n",
    "\n",
    "Improved education is often associated with greater awareness of health risks, and better access to preventive healthcare knowledges, resulting in health behaviors and longer life expectancy. \n",
    "\n",
    "However, we can also say that longer life expectancy leads to increased years of schooling, as individuals have more time to pursue education before entering the workforce. \n"
   ]
  },
  {
   "cell_type": "markdown",
   "metadata": {},
   "source": [
    "### Alcohol v.s. Life expectancy"
   ]
  },
  {
   "cell_type": "code",
   "execution_count": null,
   "metadata": {},
   "outputs": [],
   "source": [
    "#Alcohol v.s. Life expectancy\n",
    "y_data=\"Life expectancy \"\n",
    "x_data=\"Alcohol\"\n",
    "xy_df=life_expectancy_df.loc[:,[x_data,y_data]]\n",
    "\n",
    "xy_df=pd.DataFrame.dropna(xy_df,how=\"any\")\n",
    "xy_df.plot(kind=\"scatter\",x=x_data,y=y_data)\n",
    "\n",
    "x=xy_df[x_data]\n",
    "y=xy_df[y_data]\n",
    "\n",
    "(slope, intercept, rvalue, pvalue, stderr) = linregress(x,y)\n",
    "print(f\"The r-value is: {rvalue}\")\n",
    "line_eq=f\"y = {round(slope,2)}x + {round(intercept,2)}\"\n",
    "regress_values = x * slope + intercept\n",
    "\n",
    "plt.plot(x,regress_values,\"r-\")\n",
    "plt.annotate(line_eq, ((x.min(),y.max())), fontsize=15, color=\"red\") \n",
    "plt.title(f\"{x_data} V.S. {y_data}\")"
   ]
  },
  {
   "cell_type": "markdown",
   "metadata": {},
   "source": [
    "### Discussion - Alcohol v.s. Life expectancy\n",
    "RE: Topic \"Dataset Limitation\" in the main presentation\n",
    "\n",
    "Even though the dataset provides alcohol consumption data recorded per capita for aged 15+, its scope is limited to the volume of pure alcohol consumed. This restricts the ability to establish meaningful correlations between alcohol consumption and life expectancy. Further research incorporating variables such as the type of alcohol consumed, like red wine, beer, hard liquor, or the context of consumption, such as social occasions and cultural practices may yield more better insights into this relationship. "
   ]
  }
 ],
 "metadata": {
  "kernelspec": {
   "display_name": "Python 3 (ipykernel)",
   "language": "python",
   "name": "python3"
  },
  "language_info": {
   "codemirror_mode": {
    "name": "ipython",
    "version": 3
   },
   "file_extension": ".py",
   "mimetype": "text/x-python",
   "name": "python",
   "nbconvert_exporter": "python",
   "pygments_lexer": "ipython3",
   "version": "3.11.5"
  }
 },
 "nbformat": 4,
 "nbformat_minor": 4
}
